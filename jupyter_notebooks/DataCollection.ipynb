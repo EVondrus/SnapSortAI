{
  "cells": [
    {
      "cell_type": "markdown",
      "metadata": {
        "id": "0aStgWSO0E0E"
      },
      "source": [
        "# **Data Collection**"
      ]
    },
    {
      "cell_type": "markdown",
      "metadata": {
        "id": "1eLEkw5O0ECa"
      },
      "source": [
        "## Objectives\n",
        "\n",
        "* Fetch the image classification dataset CIFAR-10 from Kaggle and save it as raw data.\n",
        "* Inspect the image data.\n",
        "* Split into train, test and validation sets.\n",
        "\n",
        "## Inputs\n",
        "Write here which data or information you need to run the notebook \n",
        "* [https://www.kaggle.com/competitions/cifar-10/overview](https://www.kaggle.com/competitions/cifar-10/overview)\n",
        "* Kaggle JSON file for authentication.\n",
        "\n",
        "## Outputs\n",
        "output/train/\n",
        "output/test/\n",
        "output/trainLabels.csv\n",
        "\n",
        "## Overview\n",
        "Problem The e-commerce platform aims to improve its product categorization by developing a machine learning model that can classify images into one of 10 categories with high accuracy. To prototype this solution, the company will use a subset of the CIFAR-10 dataset, which contains a large number of images, to ensure compatibility with deployment constraints on platforms like Heroku and GitHub.\n",
        "\n",
        "**Data:**\n",
        "\n",
        "- Training Data: The CIFAR-10 dataset originally includes 50,000 images across 10 categories. For this project, a reduced subset will be used to fit within the storage and performance limits of Heroku and GitHub. Specifically, the dataset will be trimmed to a smaller number of images per category to streamline processing.\n",
        "\n",
        "- Testing Data: The CIFAR-10 dataset includes 10,000 images for testing. Similarly, this set will be reduced to ensure it is manageable within the deployment constraints. The reduced test set will be used to evaluate the model's performance and accuracy.\n",
        "\n",
        "**Important Notes:**\n",
        "- Dataset Adjustment: To make the dataset compatible with deployment constraints, a subset of images from both the training and testing sets will be selected. This will involve removing a portion of the images while retaining a representative sample of each category.\n",
        "\n",
        "- Evaluation: Despite the reduced dataset, the goal remains to achieve high accuracy in classifying images into the correct categories. The adjusted training and testing sets will be used to develop and assess the model’s performance effectively.\n",
        "\n",
        "**Quick Recap:**\n",
        "- /train - A smaller subset of 3500 images of the original 50,000 images from the training set.\n",
        "- /test - A smaller of subset 1000 images of the subset of the original 50.000 images from the training set.\n",
        "- /validation - A smaller subset of 500 images of the original 50.000 images from the training set.\n",
        "- trainLabels.csv/ - The CIFAR-10 dataset’s 10 predefined categories will still be used, but with a reduced number of images to fit deployment constraints.\n",
        "\n",
        "This adjusted approach ensures that the model can be developed, tested, and deployed efficiently while meeting the project’s business requirements.\n",
        "\n",
        "## Additional Comments TBC\n",
        "* 290,000 junk images in the test set.\n",
        "* Trivial modifications to the official 10,000 test images to prevent looking them up by file hash.\n",
        "* **We have only used the train set and divided these images into test, train and validation sets to limit the size of the dataset**\n"
      ]
    },
    {
      "cell_type": "markdown",
      "metadata": {
        "id": "9uWZXH9LwoQg"
      },
      "source": [
        "---"
      ]
    },
    {
      "cell_type": "markdown",
      "metadata": {},
      "source": [
        "# Install \n",
        "Install requirements, import libraries, and set variable DatasetFolder"
      ]
    },
    {
      "cell_type": "code",
      "execution_count": 1,
      "metadata": {},
      "outputs": [
        {
          "name": "stdout",
          "output_type": "stream",
          "text": [
            "Requirement already satisfied: streamlit==0.85.0 in /workspace/.pip-modules/lib/python3.8/site-packages (from -r ../requirements.txt (line 2)) (0.85.0)\n",
            "Requirement already satisfied: altair<5 in /workspace/.pip-modules/lib/python3.8/site-packages (from -r ../requirements.txt (line 3)) (4.2.2)\n",
            "Requirement already satisfied: numpy==1.19.2 in /workspace/.pip-modules/lib/python3.8/site-packages (from -r ../requirements.txt (line 5)) (1.19.2)\n",
            "Requirement already satisfied: joblib in /workspace/.pip-modules/lib/python3.8/site-packages (from -r ../requirements.txt (line 6)) (1.4.2)\n",
            "Requirement already satisfied: seaborn==0.11.0 in /workspace/.pip-modules/lib/python3.8/site-packages (from -r ../requirements.txt (line 7)) (0.11.0)\n",
            "Requirement already satisfied: matplotlib==3.3.1 in /workspace/.pip-modules/lib/python3.8/site-packages (from -r ../requirements.txt (line 8)) (3.3.1)\n",
            "Requirement already satisfied: plotly==4.12.0 in /workspace/.pip-modules/lib/python3.8/site-packages (from -r ../requirements.txt (line 9)) (4.12.0)\n",
            "Requirement already satisfied: tensorflow-cpu==2.6.0 in /workspace/.pip-modules/lib/python3.8/site-packages (from -r ../requirements.txt (line 11)) (2.6.0)\n",
            "Requirement already satisfied: keras==2.6.0 in /workspace/.pip-modules/lib/python3.8/site-packages (from -r ../requirements.txt (line 12)) (2.6.0)\n",
            "Requirement already satisfied: protobuf==3.20 in /workspace/.pip-modules/lib/python3.8/site-packages (from -r ../requirements.txt (line 13)) (3.20.0)\n",
            "Requirement already satisfied: astor in /workspace/.pip-modules/lib/python3.8/site-packages (from streamlit==0.85.0->-r ../requirements.txt (line 2)) (0.8.1)\n",
            "Requirement already satisfied: attrs in /home/gitpod/.pyenv/versions/3.8.18/lib/python3.8/site-packages (from streamlit==0.85.0->-r ../requirements.txt (line 2)) (24.2.0)\n",
            "Requirement already satisfied: base58 in /workspace/.pip-modules/lib/python3.8/site-packages (from streamlit==0.85.0->-r ../requirements.txt (line 2)) (2.1.1)\n",
            "Requirement already satisfied: blinker in /workspace/.pip-modules/lib/python3.8/site-packages (from streamlit==0.85.0->-r ../requirements.txt (line 2)) (1.8.2)\n",
            "Requirement already satisfied: cachetools>=4.0 in /workspace/.pip-modules/lib/python3.8/site-packages (from streamlit==0.85.0->-r ../requirements.txt (line 2)) (5.5.0)\n",
            "Requirement already satisfied: click<8.0,>=7.0 in /workspace/.pip-modules/lib/python3.8/site-packages (from streamlit==0.85.0->-r ../requirements.txt (line 2)) (7.1.2)\n",
            "Requirement already satisfied: packaging in /home/gitpod/.pyenv/versions/3.8.18/lib/python3.8/site-packages (from streamlit==0.85.0->-r ../requirements.txt (line 2)) (24.1)\n",
            "Requirement already satisfied: pandas>=0.21.0 in /workspace/.pip-modules/lib/python3.8/site-packages (from streamlit==0.85.0->-r ../requirements.txt (line 2)) (1.4.4)\n",
            "Requirement already satisfied: pillow>=6.2.0 in /workspace/.pip-modules/lib/python3.8/site-packages (from streamlit==0.85.0->-r ../requirements.txt (line 2)) (10.4.0)\n",
            "Requirement already satisfied: pyarrow in /workspace/.pip-modules/lib/python3.8/site-packages (from streamlit==0.85.0->-r ../requirements.txt (line 2)) (17.0.0)\n",
            "Requirement already satisfied: pydeck>=0.1.dev5 in /workspace/.pip-modules/lib/python3.8/site-packages (from streamlit==0.85.0->-r ../requirements.txt (line 2)) (0.9.1)\n",
            "Requirement already satisfied: python-dateutil in /home/gitpod/.pyenv/versions/3.8.18/lib/python3.8/site-packages (from streamlit==0.85.0->-r ../requirements.txt (line 2)) (2.9.0.post0)\n",
            "Requirement already satisfied: requests in /home/gitpod/.pyenv/versions/3.8.18/lib/python3.8/site-packages (from streamlit==0.85.0->-r ../requirements.txt (line 2)) (2.32.3)\n",
            "Requirement already satisfied: toml in /workspace/.pip-modules/lib/python3.8/site-packages (from streamlit==0.85.0->-r ../requirements.txt (line 2)) (0.10.2)\n",
            "Requirement already satisfied: tornado>=5.0 in /home/gitpod/.pyenv/versions/3.8.18/lib/python3.8/site-packages (from streamlit==0.85.0->-r ../requirements.txt (line 2)) (6.4.1)\n",
            "Requirement already satisfied: tzlocal in /workspace/.pip-modules/lib/python3.8/site-packages (from streamlit==0.85.0->-r ../requirements.txt (line 2)) (5.2)\n",
            "Requirement already satisfied: validators in /workspace/.pip-modules/lib/python3.8/site-packages (from streamlit==0.85.0->-r ../requirements.txt (line 2)) (0.34.0)\n",
            "Requirement already satisfied: gitpython in /workspace/.pip-modules/lib/python3.8/site-packages (from streamlit==0.85.0->-r ../requirements.txt (line 2)) (3.1.43)\n",
            "Requirement already satisfied: watchdog in /workspace/.pip-modules/lib/python3.8/site-packages (from streamlit==0.85.0->-r ../requirements.txt (line 2)) (4.0.2)\n",
            "Requirement already satisfied: scipy>=1.0 in /workspace/.pip-modules/lib/python3.8/site-packages (from seaborn==0.11.0->-r ../requirements.txt (line 7)) (1.9.3)\n",
            "Requirement already satisfied: certifi>=2020.06.20 in /home/gitpod/.pyenv/versions/3.8.18/lib/python3.8/site-packages (from matplotlib==3.3.1->-r ../requirements.txt (line 8)) (2024.8.30)\n",
            "Requirement already satisfied: cycler>=0.10 in /workspace/.pip-modules/lib/python3.8/site-packages (from matplotlib==3.3.1->-r ../requirements.txt (line 8)) (0.12.1)\n",
            "Requirement already satisfied: kiwisolver>=1.0.1 in /workspace/.pip-modules/lib/python3.8/site-packages (from matplotlib==3.3.1->-r ../requirements.txt (line 8)) (1.4.7)\n",
            "Requirement already satisfied: pyparsing!=2.0.4,!=2.1.2,!=2.1.6,>=2.0.3 in /workspace/.pip-modules/lib/python3.8/site-packages (from matplotlib==3.3.1->-r ../requirements.txt (line 8)) (3.1.4)\n",
            "Requirement already satisfied: retrying>=1.3.3 in /workspace/.pip-modules/lib/python3.8/site-packages (from plotly==4.12.0->-r ../requirements.txt (line 9)) (1.3.4)\n",
            "Requirement already satisfied: six in /workspace/.pip-modules/lib/python3.8/site-packages (from plotly==4.12.0->-r ../requirements.txt (line 9)) (1.15.0)\n",
            "Requirement already satisfied: absl-py~=0.10 in /workspace/.pip-modules/lib/python3.8/site-packages (from tensorflow-cpu==2.6.0->-r ../requirements.txt (line 11)) (0.15.0)\n",
            "Requirement already satisfied: astunparse~=1.6.3 in /workspace/.pip-modules/lib/python3.8/site-packages (from tensorflow-cpu==2.6.0->-r ../requirements.txt (line 11)) (1.6.3)\n",
            "Requirement already satisfied: clang~=5.0 in /workspace/.pip-modules/lib/python3.8/site-packages (from tensorflow-cpu==2.6.0->-r ../requirements.txt (line 11)) (5.0)\n",
            "Requirement already satisfied: flatbuffers~=1.12.0 in /workspace/.pip-modules/lib/python3.8/site-packages (from tensorflow-cpu==2.6.0->-r ../requirements.txt (line 11)) (1.12)\n",
            "Requirement already satisfied: google-pasta~=0.2 in /workspace/.pip-modules/lib/python3.8/site-packages (from tensorflow-cpu==2.6.0->-r ../requirements.txt (line 11)) (0.2.0)\n",
            "Requirement already satisfied: h5py~=3.1.0 in /workspace/.pip-modules/lib/python3.8/site-packages (from tensorflow-cpu==2.6.0->-r ../requirements.txt (line 11)) (3.1.0)\n",
            "Requirement already satisfied: keras-preprocessing~=1.1.2 in /workspace/.pip-modules/lib/python3.8/site-packages (from tensorflow-cpu==2.6.0->-r ../requirements.txt (line 11)) (1.1.2)\n",
            "Requirement already satisfied: opt-einsum~=3.3.0 in /workspace/.pip-modules/lib/python3.8/site-packages (from tensorflow-cpu==2.6.0->-r ../requirements.txt (line 11)) (3.3.0)\n",
            "Requirement already satisfied: termcolor~=1.1.0 in /workspace/.pip-modules/lib/python3.8/site-packages (from tensorflow-cpu==2.6.0->-r ../requirements.txt (line 11)) (1.1.0)\n",
            "Requirement already satisfied: typing-extensions~=3.7.4 in /workspace/.pip-modules/lib/python3.8/site-packages (from tensorflow-cpu==2.6.0->-r ../requirements.txt (line 11)) (3.7.4.3)\n",
            "Requirement already satisfied: wheel~=0.35 in /home/gitpod/.pyenv/versions/3.8.18/lib/python3.8/site-packages (from tensorflow-cpu==2.6.0->-r ../requirements.txt (line 11)) (0.44.0)\n",
            "Requirement already satisfied: wrapt~=1.12.1 in /workspace/.pip-modules/lib/python3.8/site-packages (from tensorflow-cpu==2.6.0->-r ../requirements.txt (line 11)) (1.12.1)\n",
            "Requirement already satisfied: gast==0.4.0 in /workspace/.pip-modules/lib/python3.8/site-packages (from tensorflow-cpu==2.6.0->-r ../requirements.txt (line 11)) (0.4.0)\n",
            "Requirement already satisfied: tensorboard~=2.6 in /workspace/.pip-modules/lib/python3.8/site-packages (from tensorflow-cpu==2.6.0->-r ../requirements.txt (line 11)) (2.13.0)\n",
            "Requirement already satisfied: tensorflow-estimator~=2.6 in /workspace/.pip-modules/lib/python3.8/site-packages (from tensorflow-cpu==2.6.0->-r ../requirements.txt (line 11)) (2.13.0)\n",
            "Requirement already satisfied: grpcio<2.0,>=1.37.0 in /workspace/.pip-modules/lib/python3.8/site-packages (from tensorflow-cpu==2.6.0->-r ../requirements.txt (line 11)) (1.66.1)\n",
            "Requirement already satisfied: entrypoints in /workspace/.pip-modules/lib/python3.8/site-packages (from altair<5->-r ../requirements.txt (line 3)) (0.4)\n",
            "Requirement already satisfied: jinja2 in /home/gitpod/.pyenv/versions/3.8.18/lib/python3.8/site-packages (from altair<5->-r ../requirements.txt (line 3)) (3.1.4)\n",
            "Requirement already satisfied: jsonschema>=3.0 in /home/gitpod/.pyenv/versions/3.8.18/lib/python3.8/site-packages (from altair<5->-r ../requirements.txt (line 3)) (4.23.0)\n",
            "Requirement already satisfied: toolz in /workspace/.pip-modules/lib/python3.8/site-packages (from altair<5->-r ../requirements.txt (line 3)) (0.12.1)\n",
            "Requirement already satisfied: importlib-resources>=1.4.0 in /home/gitpod/.pyenv/versions/3.8.18/lib/python3.8/site-packages (from jsonschema>=3.0->altair<5->-r ../requirements.txt (line 3)) (6.4.4)\n",
            "Requirement already satisfied: jsonschema-specifications>=2023.03.6 in /home/gitpod/.pyenv/versions/3.8.18/lib/python3.8/site-packages (from jsonschema>=3.0->altair<5->-r ../requirements.txt (line 3)) (2023.12.1)\n",
            "Requirement already satisfied: pkgutil-resolve-name>=1.3.10 in /home/gitpod/.pyenv/versions/3.8.18/lib/python3.8/site-packages (from jsonschema>=3.0->altair<5->-r ../requirements.txt (line 3)) (1.3.10)\n",
            "Requirement already satisfied: referencing>=0.28.4 in /home/gitpod/.pyenv/versions/3.8.18/lib/python3.8/site-packages (from jsonschema>=3.0->altair<5->-r ../requirements.txt (line 3)) (0.35.1)\n",
            "Requirement already satisfied: rpds-py>=0.7.1 in /home/gitpod/.pyenv/versions/3.8.18/lib/python3.8/site-packages (from jsonschema>=3.0->altair<5->-r ../requirements.txt (line 3)) (0.20.0)\n",
            "Requirement already satisfied: pytz>=2020.1 in /home/gitpod/.pyenv/versions/3.8.18/lib/python3.8/site-packages (from pandas>=0.21.0->streamlit==0.85.0->-r ../requirements.txt (line 2)) (2024.1)\n",
            "Requirement already satisfied: MarkupSafe>=2.0 in /home/gitpod/.pyenv/versions/3.8.18/lib/python3.8/site-packages (from jinja2->altair<5->-r ../requirements.txt (line 3)) (2.1.5)\n",
            "Requirement already satisfied: google-auth<3,>=1.6.3 in /workspace/.pip-modules/lib/python3.8/site-packages (from tensorboard~=2.6->tensorflow-cpu==2.6.0->-r ../requirements.txt (line 11)) (2.34.0)\n",
            "Requirement already satisfied: google-auth-oauthlib<1.1,>=0.5 in /workspace/.pip-modules/lib/python3.8/site-packages (from tensorboard~=2.6->tensorflow-cpu==2.6.0->-r ../requirements.txt (line 11)) (1.0.0)\n",
            "Requirement already satisfied: markdown>=2.6.8 in /workspace/.pip-modules/lib/python3.8/site-packages (from tensorboard~=2.6->tensorflow-cpu==2.6.0->-r ../requirements.txt (line 11)) (3.7)\n",
            "Requirement already satisfied: setuptools>=41.0.0 in /home/gitpod/.pyenv/versions/3.8.18/lib/python3.8/site-packages (from tensorboard~=2.6->tensorflow-cpu==2.6.0->-r ../requirements.txt (line 11)) (74.1.2)\n",
            "Requirement already satisfied: tensorboard-data-server<0.8.0,>=0.7.0 in /workspace/.pip-modules/lib/python3.8/site-packages (from tensorboard~=2.6->tensorflow-cpu==2.6.0->-r ../requirements.txt (line 11)) (0.7.2)\n",
            "Requirement already satisfied: werkzeug>=1.0.1 in /workspace/.pip-modules/lib/python3.8/site-packages (from tensorboard~=2.6->tensorflow-cpu==2.6.0->-r ../requirements.txt (line 11)) (3.0.4)\n",
            "Requirement already satisfied: charset-normalizer<4,>=2 in /home/gitpod/.pyenv/versions/3.8.18/lib/python3.8/site-packages (from requests->streamlit==0.85.0->-r ../requirements.txt (line 2)) (3.3.2)\n",
            "Requirement already satisfied: idna<4,>=2.5 in /home/gitpod/.pyenv/versions/3.8.18/lib/python3.8/site-packages (from requests->streamlit==0.85.0->-r ../requirements.txt (line 2)) (3.8)\n",
            "Requirement already satisfied: urllib3<3,>=1.21.1 in /home/gitpod/.pyenv/versions/3.8.18/lib/python3.8/site-packages (from requests->streamlit==0.85.0->-r ../requirements.txt (line 2)) (2.2.2)\n",
            "Requirement already satisfied: gitdb<5,>=4.0.1 in /workspace/.pip-modules/lib/python3.8/site-packages (from gitpython->streamlit==0.85.0->-r ../requirements.txt (line 2)) (4.0.11)\n",
            "Requirement already satisfied: backports.zoneinfo in /workspace/.pip-modules/lib/python3.8/site-packages (from tzlocal->streamlit==0.85.0->-r ../requirements.txt (line 2)) (0.2.1)\n",
            "Requirement already satisfied: smmap<6,>=3.0.1 in /workspace/.pip-modules/lib/python3.8/site-packages (from gitdb<5,>=4.0.1->gitpython->streamlit==0.85.0->-r ../requirements.txt (line 2)) (5.0.1)\n",
            "Requirement already satisfied: pyasn1-modules>=0.2.1 in /workspace/.pip-modules/lib/python3.8/site-packages (from google-auth<3,>=1.6.3->tensorboard~=2.6->tensorflow-cpu==2.6.0->-r ../requirements.txt (line 11)) (0.4.0)\n",
            "Requirement already satisfied: rsa<5,>=3.1.4 in /workspace/.pip-modules/lib/python3.8/site-packages (from google-auth<3,>=1.6.3->tensorboard~=2.6->tensorflow-cpu==2.6.0->-r ../requirements.txt (line 11)) (4.9)\n",
            "Requirement already satisfied: requests-oauthlib>=0.7.0 in /workspace/.pip-modules/lib/python3.8/site-packages (from google-auth-oauthlib<1.1,>=0.5->tensorboard~=2.6->tensorflow-cpu==2.6.0->-r ../requirements.txt (line 11)) (2.0.0)\n",
            "Requirement already satisfied: zipp>=3.1.0 in /home/gitpod/.pyenv/versions/3.8.18/lib/python3.8/site-packages (from importlib-resources>=1.4.0->jsonschema>=3.0->altair<5->-r ../requirements.txt (line 3)) (3.20.1)\n",
            "Requirement already satisfied: importlib-metadata>=4.4 in /home/gitpod/.pyenv/versions/3.8.18/lib/python3.8/site-packages (from markdown>=2.6.8->tensorboard~=2.6->tensorflow-cpu==2.6.0->-r ../requirements.txt (line 11)) (8.4.0)\n",
            "Requirement already satisfied: pyasn1<0.7.0,>=0.4.6 in /workspace/.pip-modules/lib/python3.8/site-packages (from pyasn1-modules>=0.2.1->google-auth<3,>=1.6.3->tensorboard~=2.6->tensorflow-cpu==2.6.0->-r ../requirements.txt (line 11)) (0.6.0)\n",
            "Requirement already satisfied: oauthlib>=3.0.0 in /workspace/.pip-modules/lib/python3.8/site-packages (from requests-oauthlib>=0.7.0->google-auth-oauthlib<1.1,>=0.5->tensorboard~=2.6->tensorflow-cpu==2.6.0->-r ../requirements.txt (line 11)) (3.2.2)\n",
            "Note: you may need to restart the kernel to use updated packages.\n"
          ]
        }
      ],
      "source": [
        "%pip install -r ../requirements.txt"
      ]
    },
    {
      "cell_type": "code",
      "execution_count": 2,
      "metadata": {},
      "outputs": [
        {
          "name": "stdout",
          "output_type": "stream",
          "text": [
            "Requirement already satisfied: opencv-python in /workspace/.pip-modules/lib/python3.8/site-packages (4.10.0.84)\n",
            "Requirement already satisfied: pandas in /workspace/.pip-modules/lib/python3.8/site-packages (1.4.4)\n",
            "Requirement already satisfied: numpy>=1.17.0 in /workspace/.pip-modules/lib/python3.8/site-packages (from opencv-python) (1.19.2)\n",
            "Requirement already satisfied: python-dateutil>=2.8.1 in /home/gitpod/.pyenv/versions/3.8.18/lib/python3.8/site-packages (from pandas) (2.9.0.post0)\n",
            "Requirement already satisfied: pytz>=2020.1 in /home/gitpod/.pyenv/versions/3.8.18/lib/python3.8/site-packages (from pandas) (2024.1)\n",
            "Requirement already satisfied: six>=1.5 in /workspace/.pip-modules/lib/python3.8/site-packages (from python-dateutil>=2.8.1->pandas) (1.15.0)\n",
            "Note: you may need to restart the kernel to use updated packages.\n"
          ]
        }
      ],
      "source": [
        "%pip install opencv-python pandas\n"
      ]
    },
    {
      "cell_type": "code",
      "execution_count": 3,
      "metadata": {},
      "outputs": [],
      "source": [
        "import os\n",
        "import pandas as pd\n",
        "from matplotlib import pyplot as plt\n",
        "import numpy as np\n",
        "# import tensorflow as tf\n",
        "import zipfile\n",
        "import py7zr\n",
        "import shutil\n",
        "import random\n",
        "import joblib\n"
      ]
    },
    {
      "cell_type": "markdown",
      "metadata": {},
      "source": []
    },
    {
      "cell_type": "markdown",
      "metadata": {
        "id": "cqP-UeN-z3i2"
      },
      "source": [
        "# Change working directory"
      ]
    },
    {
      "cell_type": "markdown",
      "metadata": {
        "id": "aOGIGS-uz3i2"
      },
      "source": [
        "Change working directory to root project folder"
      ]
    },
    {
      "cell_type": "code",
      "execution_count": 4,
      "metadata": {
        "id": "wZfF_j-Bz3i4",
        "outputId": "66943449-1436-4c3d-85c7-b85f9f78349b"
      },
      "outputs": [
        {
          "name": "stdout",
          "output_type": "stream",
          "text": [
            "Current folder: /workspace/SnapSortAI/jupyter_notebooks\n",
            "New folder: /workspace/SnapSortAI\n"
          ]
        }
      ],
      "source": [
        "current_dir = os.getcwd()\n",
        "print('Current folder: ' + current_dir)\n",
        "os.chdir(os.path.dirname(current_dir))\n",
        "current_dir = os.getcwd()\n",
        "print('New folder: ' + current_dir)"
      ]
    },
    {
      "cell_type": "markdown",
      "metadata": {
        "id": "ZY3l0-AxO93d"
      },
      "source": [
        "---"
      ]
    },
    {
      "cell_type": "markdown",
      "metadata": {},
      "source": [
        "# Fetch Data from Kaggle and Extract Files"
      ]
    },
    {
      "cell_type": "markdown",
      "metadata": {},
      "source": [
        "* Install Kaggle, configure the directory, and set permissions for the Kaggle authentication JSON.\n",
        "* Download the Kaggle dataset.\n",
        "* Unzip the file, extract .7z files and delete the unused files and kaggle.json"
      ]
    },
    {
      "cell_type": "code",
      "execution_count": 5,
      "metadata": {},
      "outputs": [
        {
          "name": "stdout",
          "output_type": "stream",
          "text": [
            "Requirement already satisfied: kaggle==1.5.12 in /workspace/.pip-modules/lib/python3.8/site-packages (1.5.12)\n",
            "Requirement already satisfied: six>=1.10 in /workspace/.pip-modules/lib/python3.8/site-packages (from kaggle==1.5.12) (1.15.0)\n",
            "Requirement already satisfied: certifi in /home/gitpod/.pyenv/versions/3.8.18/lib/python3.8/site-packages (from kaggle==1.5.12) (2024.8.30)\n",
            "Requirement already satisfied: python-dateutil in /home/gitpod/.pyenv/versions/3.8.18/lib/python3.8/site-packages (from kaggle==1.5.12) (2.9.0.post0)\n",
            "Requirement already satisfied: requests in /home/gitpod/.pyenv/versions/3.8.18/lib/python3.8/site-packages (from kaggle==1.5.12) (2.32.3)\n",
            "Requirement already satisfied: tqdm in /workspace/.pip-modules/lib/python3.8/site-packages (from kaggle==1.5.12) (4.66.5)\n",
            "Requirement already satisfied: python-slugify in /workspace/.pip-modules/lib/python3.8/site-packages (from kaggle==1.5.12) (8.0.4)\n",
            "Requirement already satisfied: urllib3 in /home/gitpod/.pyenv/versions/3.8.18/lib/python3.8/site-packages (from kaggle==1.5.12) (2.2.2)\n",
            "Requirement already satisfied: text-unidecode>=1.3 in /workspace/.pip-modules/lib/python3.8/site-packages (from python-slugify->kaggle==1.5.12) (1.3)\n",
            "Requirement already satisfied: charset-normalizer<4,>=2 in /home/gitpod/.pyenv/versions/3.8.18/lib/python3.8/site-packages (from requests->kaggle==1.5.12) (3.3.2)\n",
            "Requirement already satisfied: idna<4,>=2.5 in /home/gitpod/.pyenv/versions/3.8.18/lib/python3.8/site-packages (from requests->kaggle==1.5.12) (3.8)\n",
            "Note: you may need to restart the kernel to use updated packages.\n",
            "Requirements installed.\n",
            "Directory configured and permissions set.\n",
            "Downloading cifar-10.zip to inputs/cifar10_dataset_small\n",
            "100%|███████████████████████████████████████▊| 712M/715M [00:20<00:00, 37.7MB/s]\n",
            "100%|████████████████████████████████████████| 715M/715M [00:20<00:00, 36.4MB/s]\n",
            "Extracting ZIP file...\n",
            "ZIP file extraction complete.\n",
            "Extracting train.7z set...\n",
            "train.7z extracted.\n",
            "Removed inputs/cifar10_dataset_small/cifar-10.zip\n",
            "Removed inputs/cifar10_dataset_small/test.7z\n",
            "Removed inputs/cifar10_dataset_small/train.7z\n",
            "Removed inputs/cifar10_dataset_small/sampleSubmission.csv\n",
            "Unused files deleted.\n"
          ]
        }
      ],
      "source": [
        "%pip install kaggle==1.5.12\n",
        "print('Requirements installed.')\n",
        "\n",
        "os.environ['KAGGLE_CONFIG_DIR'] = os.getcwd()\n",
        "! chmod 600 kaggle.json\n",
        "print('Directory configured and permissions set.')\n",
        "\n",
        "DatasetFolder = 'inputs/cifar10_dataset_small'\n",
        "\n",
        "! kaggle competitions download -c cifar-10 -p {DatasetFolder}\n",
        "\n",
        "# Extract ZIP file\n",
        "zip_file_path = os.path.join(DatasetFolder, 'cifar-10.zip')\n",
        "if os.path.exists(zip_file_path):\n",
        "    print('Extracting ZIP file...')\n",
        "    with zipfile.ZipFile(zip_file_path, 'r') as zip_ref:\n",
        "        zip_ref.extractall(DatasetFolder)\n",
        "    print('ZIP file extraction complete.')\n",
        "else:\n",
        "    print(f\"File {zip_file_path} not found.\")\n",
        "\n",
        "# Extract train.7z file\n",
        "train_7z_path = os.path.join(DatasetFolder, 'train.7z')\n",
        "if os.path.exists(train_7z_path):\n",
        "    print('Extracting train.7z set...')\n",
        "    with py7zr.SevenZipFile(train_7z_path, 'r') as archive:\n",
        "        archive.extractall(DatasetFolder)\n",
        "    print('train.7z extracted.')\n",
        "else:\n",
        "    print(f\"File {train_7z_path} not found.\")\n",
        "\n",
        "# Delete original files after successful extraction\n",
        "files_to_remove = [\n",
        "    os.path.join(DatasetFolder, 'cifar-10.zip'),\n",
        "    os.path.join(DatasetFolder, 'test.7z'),\n",
        "    os.path.join(DatasetFolder, 'train.7z'),\n",
        "    os.path.join(DatasetFolder, 'sampleSubmission.csv')\n",
        "]\n",
        "for file_path in files_to_remove:\n",
        "    try:\n",
        "        os.remove(file_path)\n",
        "        print(f\"Removed {file_path}\")\n",
        "    except Exception as e:\n",
        "        print(f\"Error removing {file_path}: {str(e)}\")\n",
        "\n",
        "print('Unused files deleted.')\n"
      ]
    },
    {
      "cell_type": "markdown",
      "metadata": {},
      "source": [
        "## Divide Images Into Respective Class Directories"
      ]
    },
    {
      "cell_type": "markdown",
      "metadata": {},
      "source": [
        "* We are sampling 500 images per class for this project."
      ]
    },
    {
      "cell_type": "code",
      "execution_count": 6,
      "metadata": {},
      "outputs": [
        {
          "name": "stdout",
          "output_type": "stream",
          "text": [
            "Created class folder: inputs/cifar10_dataset_small/airplane\n",
            "Created class folder: inputs/cifar10_dataset_small/automobile\n",
            "Created class folder: inputs/cifar10_dataset_small/bird\n",
            "Created class folder: inputs/cifar10_dataset_small/cat\n",
            "Created class folder: inputs/cifar10_dataset_small/deer\n",
            "Created class folder: inputs/cifar10_dataset_small/dog\n",
            "Created class folder: inputs/cifar10_dataset_small/frog\n",
            "Created class folder: inputs/cifar10_dataset_small/horse\n",
            "Created class folder: inputs/cifar10_dataset_small/ship\n",
            "Created class folder: inputs/cifar10_dataset_small/truck\n",
            "\n",
            "Original train directory deleted successfully.\n",
            "\n",
            "All files have been moved to their respective class folders.\n"
          ]
        }
      ],
      "source": [
        "import csv\n",
        "\n",
        "\n",
        "def load_filename_to_class_map(csv_file_path):\n",
        "    \"\"\"\n",
        "    Load a mapping from a CSV file that contains image filenames and their corresponding classes.\n",
        "    \n",
        "    Args:\n",
        "        csv_file_path (str): Path to the CSV file.\n",
        "        \n",
        "    Returns:\n",
        "        dict: A dictionary mapping filenames to class names.\n",
        "    \"\"\"\n",
        "    filename_to_class_map = {}\n",
        "    \n",
        "    with open(csv_file_path, mode='r') as file:\n",
        "        reader = csv.DictReader(file)\n",
        "        for row in reader:\n",
        "            filename = row['id'] + '.png'  # CSV has an 'id' column for image number\n",
        "            label = row['label']           # CSV has a 'label' column for class name\n",
        "            filename_to_class_map[filename] = label\n",
        "    \n",
        "    return filename_to_class_map\n",
        "\n",
        "def split_images(dataset_root_dir, classes, filename_to_class_map, total_samples=500):\n",
        "    \"\"\"\n",
        "    Splits images from the source directory into class-specific directories,\n",
        "    ensuring each class has exactly 500 images.\n",
        "\n",
        "    Args:\n",
        "        dataset_root_dir (str): Path to the dataset directory.\n",
        "        classes (list): List of class names to split (e.g., ['airplane', 'automobile', 'bird', ...]).\n",
        "        filename_to_class_map (dict): Dictionary mapping filenames to class names.\n",
        "        total_samples (int): Number of images to sample for each class (default is 500).\n",
        "    \"\"\"\n",
        "    # Source directory\n",
        "    source_dir = os.path.join(dataset_root_dir, 'train')\n",
        "\n",
        "    if not os.path.exists(source_dir):\n",
        "        print(f\"Source directory {source_dir} does not exist!\")\n",
        "        return\n",
        "\n",
        "    # Create class-specific directories within dataset_root_dir\n",
        "    for cls in classes:\n",
        "        class_dir = os.path.join(dataset_root_dir, cls)\n",
        "        os.makedirs(class_dir, exist_ok=True)\n",
        "        print(f\"Created class folder: {class_dir}\")  \n",
        "\n",
        "    # Organize files by class\n",
        "    class_files = {cls: [] for cls in classes}\n",
        "    for file_name in os.listdir(source_dir):\n",
        "        if file_name.endswith('.png'):\n",
        "            cls = filename_to_class_map.get(file_name)\n",
        "            if cls:\n",
        "                file_path = os.path.join(source_dir, file_name)\n",
        "                class_files[cls].append(file_path)\n",
        "\n",
        "    # Calculate the number of samples per class\n",
        "    samples_per_class = min(total_samples, len(class_files[classes[0]]))\n",
        "\n",
        "    # Randomly sample images for each class and move them to their respective folders\n",
        "    for cls, files in class_files.items():\n",
        "        selected_files = random.sample(files, samples_per_class)\n",
        "        for file_path in selected_files:\n",
        "            dest_path = os.path.join(dataset_root_dir, cls, os.path.basename(file_path))\n",
        "            try:\n",
        "                shutil.move(file_path, dest_path)\n",
        "            except Exception as e:\n",
        "                print(f\"Error moving file {file_path} to {dest_path}: {str(e)}\")\n",
        "\n",
        "    # Delete the original train directory after moving all files\n",
        "    try:\n",
        "        shutil.rmtree(source_dir)\n",
        "        print(\"\\nOriginal train directory deleted successfully.\")\n",
        "    except Exception as e:\n",
        "        print(f\"\\nError deleting original train directory: {str(e)}\")\n",
        "\n",
        "    # Print when the process is done\n",
        "    print(\"\\nAll files have been moved to their respective class folders.\")\n",
        "\n",
        "# Load the filename to class map\n",
        "csv_file_path = 'inputs/cifar10_dataset_small/trainLabels.csv'\n",
        "filename_to_class_map = load_filename_to_class_map(csv_file_path)\n",
        "\n",
        "# Class names\n",
        "classes = ['airplane', 'automobile', 'bird', 'cat', 'deer', 'dog', 'frog', 'horse', 'ship', 'truck']\n",
        "\n",
        "\n",
        "dataset_root_dir = 'inputs/cifar10_dataset_small'\n",
        "\n",
        "# Call the function to split images\n",
        "split_images(dataset_root_dir=dataset_root_dir, classes=classes, filename_to_class_map=filename_to_class_map, total_samples=500)\n"
      ]
    },
    {
      "cell_type": "markdown",
      "metadata": {},
      "source": [
        "### Clean Up - Remove Non-Images from Class Directories"
      ]
    },
    {
      "cell_type": "code",
      "execution_count": 7,
      "metadata": {},
      "outputs": [
        {
          "name": "stdout",
          "output_type": "stream",
          "text": [
            "Folder: airplane - contains 500 image files\n",
            "Folder: airplane - removed 0 non-image files\n",
            "Folder: automobile - contains 500 image files\n",
            "Folder: automobile - removed 0 non-image files\n",
            "Folder: bird - contains 500 image files\n",
            "Folder: bird - removed 0 non-image files\n",
            "Folder: cat - contains 500 image files\n",
            "Folder: cat - removed 0 non-image files\n",
            "Folder: deer - contains 500 image files\n",
            "Folder: deer - removed 0 non-image files\n",
            "Folder: dog - contains 500 image files\n",
            "Folder: dog - removed 0 non-image files\n",
            "Folder: frog - contains 500 image files\n",
            "Folder: frog - removed 0 non-image files\n",
            "Folder: horse - contains 500 image files\n",
            "Folder: horse - removed 0 non-image files\n",
            "Folder: ship - contains 500 image files\n",
            "Folder: ship - removed 0 non-image files\n",
            "Folder: truck - contains 500 image files\n",
            "Folder: truck - removed 0 non-image files\n"
          ]
        }
      ],
      "source": [
        "\n",
        "def remove_non_image_file(dataset_root_dir):\n",
        "    \"\"\"\n",
        "    Removes non-image files from the dataset directory, ensuring only image files remain.\n",
        "    \n",
        "    Args:\n",
        "        dataset_root_dir (str): The root directory containing subdirectories of image classes.\n",
        "    \"\"\"\n",
        "    # Define valid image extensions\n",
        "    image_extensions = ('.png', '.jpg', '.jpeg')  \n",
        "\n",
        "    # List all subdirectories inside the dataset root\n",
        "    folders = os.listdir(dataset_root_dir)\n",
        "\n",
        "    for folder in folders:\n",
        "        folder_path = os.path.join(dataset_root_dir, folder)\n",
        "\n",
        "        # Only process directories (skipping any files at the root)\n",
        "        if os.path.isdir(folder_path):\n",
        "            files = os.listdir(folder_path)\n",
        "\n",
        "            image_count = 0\n",
        "            non_image_count = 0\n",
        "\n",
        "            for given_file in files:\n",
        "                file_path = os.path.join(folder_path, given_file)\n",
        "\n",
        "                # Check if file doesn't have a valid image extension\n",
        "                if not given_file.lower().endswith(image_extensions):\n",
        "                    # Remove non-image file\n",
        "                    os.remove(file_path)\n",
        "                    non_image_count += 1\n",
        "                else:\n",
        "                    image_count += 1\n",
        "\n",
        "            # Report the number of images and non-images in the folder\n",
        "            print(f\"Folder: {folder} - contains {image_count} image files\")\n",
        "            print(f\"Folder: {folder} - removed {non_image_count} non-image files\")\n",
        "\n",
        "remove_non_image_file(dataset_root_dir)\n"
      ]
    },
    {
      "cell_type": "markdown",
      "metadata": {},
      "source": [
        "## Inspect the First 10 Labels Available in the trainLabels.csv file:"
      ]
    },
    {
      "cell_type": "code",
      "execution_count": 8,
      "metadata": {},
      "outputs": [
        {
          "data": {
            "text/html": [
              "<div>\n",
              "<style scoped>\n",
              "    .dataframe tbody tr th:only-of-type {\n",
              "        vertical-align: middle;\n",
              "    }\n",
              "\n",
              "    .dataframe tbody tr th {\n",
              "        vertical-align: top;\n",
              "    }\n",
              "\n",
              "    .dataframe thead th {\n",
              "        text-align: right;\n",
              "    }\n",
              "</style>\n",
              "<table border=\"1\" class=\"dataframe\">\n",
              "  <thead>\n",
              "    <tr style=\"text-align: right;\">\n",
              "      <th></th>\n",
              "      <th>id</th>\n",
              "      <th>label</th>\n",
              "    </tr>\n",
              "  </thead>\n",
              "  <tbody>\n",
              "    <tr>\n",
              "      <th>0</th>\n",
              "      <td>1</td>\n",
              "      <td>frog</td>\n",
              "    </tr>\n",
              "    <tr>\n",
              "      <th>1</th>\n",
              "      <td>2</td>\n",
              "      <td>truck</td>\n",
              "    </tr>\n",
              "    <tr>\n",
              "      <th>2</th>\n",
              "      <td>3</td>\n",
              "      <td>truck</td>\n",
              "    </tr>\n",
              "    <tr>\n",
              "      <th>3</th>\n",
              "      <td>4</td>\n",
              "      <td>deer</td>\n",
              "    </tr>\n",
              "    <tr>\n",
              "      <th>4</th>\n",
              "      <td>5</td>\n",
              "      <td>automobile</td>\n",
              "    </tr>\n",
              "    <tr>\n",
              "      <th>5</th>\n",
              "      <td>6</td>\n",
              "      <td>automobile</td>\n",
              "    </tr>\n",
              "    <tr>\n",
              "      <th>6</th>\n",
              "      <td>7</td>\n",
              "      <td>bird</td>\n",
              "    </tr>\n",
              "    <tr>\n",
              "      <th>7</th>\n",
              "      <td>8</td>\n",
              "      <td>horse</td>\n",
              "    </tr>\n",
              "    <tr>\n",
              "      <th>8</th>\n",
              "      <td>9</td>\n",
              "      <td>ship</td>\n",
              "    </tr>\n",
              "    <tr>\n",
              "      <th>9</th>\n",
              "      <td>10</td>\n",
              "      <td>cat</td>\n",
              "    </tr>\n",
              "  </tbody>\n",
              "</table>\n",
              "</div>"
            ],
            "text/plain": [
              "   id       label\n",
              "0   1        frog\n",
              "1   2       truck\n",
              "2   3       truck\n",
              "3   4        deer\n",
              "4   5  automobile\n",
              "5   6  automobile\n",
              "6   7        bird\n",
              "7   8       horse\n",
              "8   9        ship\n",
              "9  10         cat"
            ]
          },
          "execution_count": 8,
          "metadata": {},
          "output_type": "execute_result"
        }
      ],
      "source": [
        "df = pd.read_csv(f\"{dataset_root_dir}/trainLabels.csv\")\n",
        "df.head(10)"
      ]
    },
    {
      "cell_type": "markdown",
      "metadata": {},
      "source": [
        "By checking our DataFrame, we can see that:\n",
        "\n",
        "* There are 10 unique labels.\n",
        "* We noticed Labels is a categorical variables. We will replace/convert it to an integer as the ML model requires numeric variables.\n",
        "* The CSV file can act as a complete record of all the original labels and their corresponding image IDs, so we keep that file untouched."
      ]
    },
    {
      "cell_type": "code",
      "execution_count": 9,
      "metadata": {},
      "outputs": [
        {
          "name": "stdout",
          "output_type": "stream",
          "text": [
            "<class 'pandas.core.frame.DataFrame'>\n",
            "RangeIndex: 50000 entries, 0 to 49999\n",
            "Data columns (total 2 columns):\n",
            " #   Column  Non-Null Count  Dtype \n",
            "---  ------  --------------  ----- \n",
            " 0   id      50000 non-null  int64 \n",
            " 1   label   50000 non-null  object\n",
            "dtypes: int64(1), object(1)\n",
            "memory usage: 781.4+ KB\n"
          ]
        }
      ],
      "source": [
        "df.info()"
      ]
    },
    {
      "cell_type": "code",
      "execution_count": 10,
      "metadata": {},
      "outputs": [
        {
          "data": {
            "text/plain": [
              "array(['frog', 'truck', 'deer', 'automobile', 'bird', 'horse', 'ship',\n",
              "       'cat', 'dog', 'airplane'], dtype=object)"
            ]
          },
          "execution_count": 10,
          "metadata": {},
          "output_type": "execute_result"
        }
      ],
      "source": [
        "df['label'].unique()"
      ]
    },
    {
      "cell_type": "markdown",
      "metadata": {},
      "source": [
        "* Checking that the class directories includes 500 images each:"
      ]
    },
    {
      "cell_type": "code",
      "execution_count": 13,
      "metadata": {},
      "outputs": [
        {
          "name": "stdout",
          "output_type": "stream",
          "text": [
            "The path inputs/cifar10_dataset_small/trainLabels.csv does not exist or is not a directory.\n",
            "Total number of files in 'airplane': 500\n",
            "Total number of files in 'automobile': 500\n",
            "Total number of files in 'bird': 500\n",
            "Total number of files in 'cat': 500\n",
            "Total number of files in 'deer': 500\n",
            "Total number of files in 'dog': 500\n",
            "Total number of files in 'frog': 500\n",
            "Total number of files in 'horse': 500\n",
            "Total number of files in 'ship': 500\n",
            "Total number of files in 'truck': 500\n"
          ]
        }
      ],
      "source": [
        "class_folders = os.listdir(dataset_root_dir)\n",
        "\n",
        "# Iterate through each class folder\n",
        "for class_folder in class_folders:\n",
        "    class_folder_path = os.path.join(dataset_root_dir, class_folder)\n",
        "    \n",
        "    # Check if the class folder path exists and is a directory\n",
        "    if os.path.exists(class_folder_path) and os.path.isdir(class_folder_path):\n",
        "        # List all files in the class folder\n",
        "        files = os.listdir(class_folder_path)\n",
        "        print(f\"Total number of files in '{class_folder}': {len(files)}\")\n",
        "    else:\n",
        "        print(f\"The path {class_folder_path} does not exist or is not a directory.\")"
      ]
    },
    {
      "cell_type": "markdown",
      "metadata": {},
      "source": [
        "# Split Dataset "
      ]
    },
    {
      "cell_type": "markdown",
      "metadata": {},
      "source": [
        "* Split dataset into train (70%), validation (10%) and test (20%) sets"
      ]
    },
    {
      "cell_type": "code",
      "execution_count": 14,
      "metadata": {},
      "outputs": [
        {
          "name": "stdout",
          "output_type": "stream",
          "text": [
            "Class 'airplane' -> Train: 350, Validation: 50, Test: 100\n",
            "Class 'automobile' -> Train: 350, Validation: 50, Test: 100\n",
            "Class 'bird' -> Train: 350, Validation: 50, Test: 100\n",
            "Class 'cat' -> Train: 350, Validation: 50, Test: 100\n",
            "Class 'deer' -> Train: 350, Validation: 50, Test: 100\n",
            "Class 'dog' -> Train: 350, Validation: 50, Test: 100\n",
            "Class 'frog' -> Train: 350, Validation: 50, Test: 100\n",
            "Class 'horse' -> Train: 350, Validation: 50, Test: 100\n",
            "Class 'ship' -> Train: 350, Validation: 50, Test: 100\n",
            "Class 'truck' -> Train: 350, Validation: 50, Test: 100\n"
          ]
        }
      ],
      "source": [
        "def split_train_validation_test_images(dataset_root_dir, train_ratio=0.7, validation_ratio=0.1, test_ratio=0.2):\n",
        "    \"\"\"\n",
        "    Splits dataset into train, validation, and test sets, and moves images into respective folders.\n",
        "    \n",
        "    Args:\n",
        "        dataset_root_dir (str): Root directory containing class folders with images.\n",
        "        train_ratio (float): Ratio of the dataset to be used for training.\n",
        "        validation_ratio (float): Ratio of the dataset to be used for validation.\n",
        "        test_ratio (float): Ratio of the dataset to be used for testing.\n",
        "    \"\"\"\n",
        "    # Check if the sum of ratios is equal to 1.0\n",
        "    if train_ratio + validation_ratio + test_ratio != 1.0:\n",
        "        raise ValueError(\"The sum of train_ratio, validation_ratio, and test_ratio should equal 1.0.\")\n",
        "    \n",
        "    # List class directories (subfolders)\n",
        "    classes = [folder for folder in os.listdir(dataset_root_dir) if os.path.isdir(os.path.join(dataset_root_dir, folder)) \n",
        "               and folder not in ['train', 'validation', 'test']]\n",
        "    \n",
        "    for split in ['train', 'validation', 'test']:\n",
        "        # Create train, validation, and test directories if they don't exist\n",
        "        split_dir = os.path.join(dataset_root_dir, split)\n",
        "        os.makedirs(split_dir, exist_ok=True)\n",
        "        for class_name in classes:\n",
        "            os.makedirs(os.path.join(split_dir, class_name), exist_ok=True)\n",
        "\n",
        "    for class_name in classes:\n",
        "        # Get the list of all images for this class\n",
        "        class_dir = os.path.join(dataset_root_dir, class_name)\n",
        "        images = os.listdir(class_dir)\n",
        "\n",
        "        # Shuffle images randomly\n",
        "        random.shuffle(images)\n",
        "        \n",
        "        # Calculate number of images for each split\n",
        "        total_images = len(images)\n",
        "        train_count = int(total_images * train_ratio)\n",
        "        validation_count = int(total_images * validation_ratio)\n",
        "        test_count = total_images - train_count - validation_count  # Remaining goes to test\n",
        "\n",
        "        # Split into training, validation, and test sets\n",
        "        train_set = images[:train_count]\n",
        "        validation_set = images[train_count:train_count + validation_count]\n",
        "        test_set = images[train_count + validation_count:]\n",
        "        \n",
        "        # Move images to the respective directories\n",
        "        for image in train_set:\n",
        "            shutil.move(os.path.join(class_dir, image), os.path.join(dataset_root_dir, 'train', class_name, image))\n",
        "        for image in validation_set:\n",
        "            shutil.move(os.path.join(class_dir, image), os.path.join(dataset_root_dir, 'validation', class_name, image))\n",
        "        for image in test_set:\n",
        "            shutil.move(os.path.join(class_dir, image), os.path.join(dataset_root_dir, 'test', class_name, image))\n",
        "\n",
        "        print(f\"Class '{class_name}' -> Train: {len(train_set)}, Validation: {len(validation_set)}, Test: {len(test_set)}\")\n",
        "\n",
        "    # Remove the original class directories if all images are moved\n",
        "    for class_name in classes:\n",
        "        class_dir = os.path.join(dataset_root_dir, class_name)\n",
        "        if os.path.exists(class_dir) and os.path.isdir(class_dir):\n",
        "            try:\n",
        "                shutil.rmtree(class_dir)\n",
        "            except Exception as e:\n",
        "                print(f\"Error removing directory {class_dir}: {e}\")\n",
        "\n",
        "split_train_validation_test_images(dataset_root_dir, train_ratio=0.7, validation_ratio=0.1, test_ratio=0.2)\n"
      ]
    },
    {
      "cell_type": "markdown",
      "metadata": {},
      "source": [
        "# Load and Inspect Image Data"
      ]
    },
    {
      "cell_type": "code",
      "execution_count": 15,
      "metadata": {},
      "outputs": [
        {
          "name": "stdout",
          "output_type": "stream",
          "text": [
            "Requirement already satisfied: pillow in /workspace/.pip-modules/lib/python3.8/site-packages (10.4.0)\n",
            "Note: you may need to restart the kernel to use updated packages.\n"
          ]
        }
      ],
      "source": [
        "%pip install pillow"
      ]
    },
    {
      "cell_type": "code",
      "execution_count": 16,
      "metadata": {},
      "outputs": [
        {
          "data": {
            "image/png": "[encoded data removed]",
            "text/plain": [
              "<Figure size 1000x2000 with 5 Axes>"
            ]
          },
          "metadata": {},
          "output_type": "display_data"
        }
      ],
      "source": [
        "from PIL import Image\n",
        "\n",
        "def display_images(dataset_dir, num_images=5):\n",
        "    \"\"\"\n",
        "    Displays a specified number of random images from the given directory and its subdirectories.\n",
        "    \n",
        "    Args:\n",
        "        dataset_dir (str): Path to the directory containing class subdirectories with images.\n",
        "        num_images (int): Number of images to display.\n",
        "    \"\"\"\n",
        "    # Check if the directory exists\n",
        "    if not os.path.exists(dataset_dir):\n",
        "        print(f\"Error: The directory '{dataset_dir}' does not exist.\")\n",
        "        return\n",
        "\n",
        "    # List class subdirectories\n",
        "    classes = [d for d in os.listdir(dataset_dir) if os.path.isdir(os.path.join(dataset_dir, d))]\n",
        "    \n",
        "    # Empty list to store image paths\n",
        "    image_paths = []\n",
        "    \n",
        "    # Collect image paths from each class subdirectory\n",
        "    for class_name in classes:\n",
        "        class_dir = os.path.join(dataset_dir, class_name)\n",
        "        files = [f for f in os.listdir(class_dir) if os.path.isfile(os.path.join(class_dir, f))]\n",
        "        \n",
        "        # Add image paths to the list\n",
        "        for file in files:\n",
        "            image_paths.append(os.path.join(class_dir, file))\n",
        "    \n",
        "    # Shuffle the image paths\n",
        "    random.shuffle(image_paths)\n",
        "    \n",
        "    # Create subplots dynamically based on the number of images\n",
        "    if num_images > 1:\n",
        "        fig, axes = plt.subplots(num_images, 1, figsize=(10, 4 * num_images))\n",
        "    else:\n",
        "        fig, axes = plt.subplots(1, 1, figsize=(10, 4))\n",
        "        axes = [axes]  # Make axes iterable if there's only one subplot\n",
        "    \n",
        "    for i, img_path in enumerate(image_paths[:num_images]):\n",
        "        try:\n",
        "            img = Image.open(img_path)\n",
        "            axes[i].imshow(img)\n",
        "            axes[i].set_title(os.path.basename(img_path))\n",
        "            axes[i].axis('off')\n",
        "        except Exception as e:\n",
        "            print(f\"Warning: {os.path.basename(img_path)} could not be read. Error: {e}\")\n",
        "    \n",
        "    plt.subplots_adjust(hspace=0.5)\n",
        "    plt.show()\n",
        "\n",
        "train_folder = os.path.join(dataset_root_dir, 'train')\n",
        "\n",
        "display_images(train_folder, num_images=5)\n"
      ]
    },
    {
      "cell_type": "markdown",
      "metadata": {},
      "source": [
        "# Copy random images from each class to output folder"
      ]
    },
    {
      "cell_type": "code",
      "execution_count": 18,
      "metadata": {},
      "outputs": [
        {
          "name": "stdout",
          "output_type": "stream",
          "text": [
            "Checking class directory: inputs/cifar10_dataset_small/validation/airplane\n",
            "Checking class directory: inputs/cifar10_dataset_small/validation/automobile\n",
            "Checking class directory: inputs/cifar10_dataset_small/validation/bird\n",
            "Checking class directory: inputs/cifar10_dataset_small/validation/cat\n",
            "Checking class directory: inputs/cifar10_dataset_small/validation/deer\n",
            "Checking class directory: inputs/cifar10_dataset_small/validation/dog\n",
            "Checking class directory: inputs/cifar10_dataset_small/validation/frog\n",
            "Checking class directory: inputs/cifar10_dataset_small/validation/horse\n",
            "Checking class directory: inputs/cifar10_dataset_small/validation/ship\n",
            "Checking class directory: inputs/cifar10_dataset_small/validation/truck\n",
            "Sampling completed.\n"
          ]
        }
      ],
      "source": [
        "def copy_random_images(number_per_class, dataset_root_dir, output_folder, classes):\n",
        "    \"\"\"\n",
        "    Copies a specified number of random images from each class in the CIFAR-10 dataset \n",
        "    to a specified output folder.\n",
        "    \n",
        "    Args:\n",
        "        number_per_class (int): Number of images to sample from each class.\n",
        "        dataset_root_dir (str): Path to the CIFAR-10 dataset folder.\n",
        "        output_folder (str): Path to the output folder where sampled images will be stored.\n",
        "        classes (list): List of class names in the dataset.\n",
        "    \"\"\"\n",
        "    \n",
        "    # Define the validation set directory\n",
        "    validation_dir = os.path.join(dataset_root_dir, 'validation')\n",
        "    \n",
        "    # Create the output directory if it doesn't exist\n",
        "    os.makedirs(output_folder, exist_ok=True)\n",
        "    \n",
        "    for class_name in classes:\n",
        "        # Create the sample directory for the current class\n",
        "        sample_class_dir = os.path.join(output_folder, class_name)\n",
        "        os.makedirs(sample_class_dir, exist_ok=True)\n",
        "\n",
        "        # Define the class directory in the validation set\n",
        "        class_dir = os.path.join(validation_dir, class_name)\n",
        "        \n",
        "        # Print paths for debugging\n",
        "        print(f\"Checking class directory: {class_dir}\")\n",
        "\n",
        "        # Check if class directory exists\n",
        "        if not os.path.exists(class_dir):\n",
        "            print(f\"Warning: Directory for class '{class_name}' does not exist at {class_dir}.\")\n",
        "            continue\n",
        "\n",
        "        # Get a list of all images in the class directory\n",
        "        all_images = os.listdir(class_dir)\n",
        "\n",
        "        # Ensure we do not sample more images than available\n",
        "        if len(all_images) < number_per_class:\n",
        "            print(f\"Warning: Not enough images in class '{class_name}' to sample {number_per_class} images. Sampling all available images.\")\n",
        "            number_per_class = len(all_images)\n",
        "        \n",
        "        # Select a number of random images from each class\n",
        "        random_images = random.sample(all_images, number_per_class)\n",
        "\n",
        "        # Copy the selected images to the sample directories\n",
        "        for image in random_images:\n",
        "            src_image_path = os.path.join(class_dir, image)\n",
        "            dest_image_path = os.path.join(sample_class_dir, image)\n",
        "            shutil.copy(src_image_path, dest_image_path)\n",
        "\n",
        "    print(\"Sampling completed.\")\n",
        "\n",
        "\n",
        "output_folder = 'outputs/sample_images'\n",
        "\n",
        "copy_random_images(5, dataset_root_dir, output_folder, classes)"
      ]
    },
    {
      "cell_type": "markdown",
      "metadata": {},
      "source": [
        "## Create a ZIP File of the Sampled Images"
      ]
    },
    {
      "cell_type": "code",
      "execution_count": 20,
      "metadata": {},
      "outputs": [
        {
          "data": {
            "text/plain": [
              "'outputs/sample_images.zip'"
            ]
          },
          "execution_count": 20,
          "metadata": {},
          "output_type": "execute_result"
        }
      ],
      "source": [
        "def compress_folder_to_zip(folder_path, zip_filename=\"sample_images.zip\"):\n",
        "    zip_path = os.path.join(os.path.dirname(folder_path), zip_filename)\n",
        "\n",
        "    with zipfile.ZipFile(zip_path, 'w', zipfile.ZIP_DEFLATED) as zipf:\n",
        "        for root, dirs, files in os.walk(folder_path):\n",
        "            for file in files:\n",
        "                file_path = os.path.join(root, file)\n",
        "                arcname = os.path.relpath(file_path, folder_path)\n",
        "                zipf.write(file_path, arcname)\n",
        "\n",
        "    return zip_path\n",
        "\n",
        "\n",
        "OutputFolder = 'outputs/sample_images'\n",
        "compress_folder_to_zip(OutputFolder)"
      ]
    },
    {
      "cell_type": "markdown",
      "metadata": {},
      "source": [
        "---"
      ]
    },
    {
      "cell_type": "markdown",
      "metadata": {},
      "source": [
        "# Conclusions And Next Steps\n",
        "\n",
        "This initial configuration prepares the files.\n",
        "By downloading the files and setting them up in the right directories we can directly access them. \n",
        "By loading the labels and images we were able to see that we are dealing with 10 different objects.\n",
        "\n",
        "The next notebook includes Data Visualization:\n",
        "\n",
        "**1. Visualize Dataset Overview:**\n",
        "* Create plots to show the distribution of images across different classes.\n",
        "* Generate a few sample images from each class to confirm the dataset’s diversity and balance.\n",
        "\n",
        "**2. Explore Data Distribution:**\n",
        "* Plot histograms or bar charts to visualize the number of images in each class.\n",
        "* Use pie charts or bar plots to display the distribution of classes in the dataset."
      ]
    },
    {
      "cell_type": "markdown",
      "metadata": {},
      "source": [
        "---"
      ]
    },
    {
      "cell_type": "markdown",
      "metadata": {
        "id": "ltNetd085qHf"
      },
      "source": [
        "# Push files to Repo"
      ]
    },
    {
      "cell_type": "markdown",
      "metadata": {},
      "source": [
        "* Data collection and cleaning has finished. You can push the files to the GitHub repository and close this notebook."
      ]
    }
  ],
  "metadata": {
    "accelerator": "GPU",
    "colab": {
      "name": "Data Practitioner Jupyter Notebook.ipynb",
      "provenance": [],
      "toc_visible": true
    },
    "interpreter": {
      "hash": "8b8334dab9339717f727a1deaf837b322d7a41c20d15cc86be99a8e69ceec8ce"
    },
    "kernelspec": {
      "display_name": "Python 3.8.12 64-bit ('3.8.12': pyenv)",
      "name": "python3"
    },
    "language_info": {
      "codemirror_mode": {
        "name": "ipython",
        "version": 3
      },
      "file_extension": ".py",
      "mimetype": "text/x-python",
      "name": "python",
      "nbconvert_exporter": "python",
      "pygments_lexer": "ipython3",
      "version": "3.8.18"
    },
    "orig_nbformat": 2
  },
  "nbformat": 4,
  "nbformat_minor": 2
}
